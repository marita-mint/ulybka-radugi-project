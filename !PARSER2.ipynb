{
 "cells": [
  {
   "cell_type": "code",
   "execution_count": 1,
   "id": "8a5a4285",
   "metadata": {},
   "outputs": [
    {
     "name": "stdout",
     "output_type": "stream",
     "text": [
      "Парсинг завершен.\n"
     ]
    }
   ],
   "source": [
    "import requests\n",
    "from bs4 import BeautifulSoup\n",
    "\n",
    "page = 1\n",
    "max_pages = 20\n",
    "\n",
    "with open('парсинг1.txt', 'w', encoding='utf-8') as file:\n",
    "    while page <= max_pages:\n",
    "        url = f'https://www.r-ulybka.ru/catalog/tovary-dlya-uhoda-za-litsom/?page={page}'\n",
    "        response = requests.get(url)\n",
    "\n",
    "        if response.status_code == 200:\n",
    "            soup = BeautifulSoup(response.content, 'html.parser')\n",
    "\n",
    "            product_cards = soup.find_all('div', class_='MuiCardContent-root css-1guny7u')  # Находим все карточки товаров на странице\n",
    "\n",
    "            for card in product_cards:\n",
    "                product_url_tag = card.find('a', class_='MuiTypography-root MuiTypography-inherit MuiLink-root MuiLink-underlineNone css-rgda8d')\n",
    "                if product_url_tag is not None:\n",
    "                    product_url = 'https://www.r-ulybka.ru' + product_url_tag['href']  # Получаем ссылку на каждый товар\n",
    "                else:\n",
    "                    print(\"Ошибка: не найден URL товара\")\n",
    "                    continue\n",
    "\n",
    "                product_name_tag = card.find('span', class_='MuiTypography-root MuiTypography-body2 css-115j05o')\n",
    "                if product_name_tag is not None:\n",
    "                    product_name = product_name_tag.text.strip()  # Извлекаем название товара\n",
    "                else:\n",
    "                    continue \n",
    "\n",
    "                product_price_tag = card.find('span', class_='MuiTypography-root MuiTypography-body1 css-fo82xb')\n",
    "                if product_price_tag is None:\n",
    "                    product_price_tag = card.find('span', class_='MuiTypography-root MuiTypography-body1 css-10c56fs')\n",
    "                if product_price_tag is None:  # Search within additional div if price still not found\n",
    "                    product_price_tag = card.find('span', class_='MuiTypography-root MuiTypography-body1 css-b9zx1a')\n",
    "                if product_price_tag is not None:\n",
    "                    product_price = product_price_tag.text.strip()  # Извлекаем цену товара\n",
    "                else:\n",
    "                    product_price = \"Цена не найдена\"\n",
    "\n",
    "                file.write(f\"Ссылка на товар: {product_url}\\n\")\n",
    "                file.write(f\"Название товара: {product_name}\\n\")\n",
    "                file.write(f\"Цена: {product_price}\\n\")\n",
    "                file.write('\\n')\n",
    "        else:\n",
    "            print(f\"Ошибка при получении страницы {url}\")\n",
    "\n",
    "        page += 1\n",
    "\n",
    "print(\"Парсинг завершен.\")"
   ]
  },
  {
   "cell_type": "markdown",
   "id": "38319c15",
   "metadata": {},
   "source": [
    "Этим кодом я собираю данные о названии, ссылках и ценах"
   ]
  },
  {
   "cell_type": "code",
   "execution_count": 2,
   "id": "f05b05c5",
   "metadata": {},
   "outputs": [
    {
     "name": "stdout",
     "output_type": "stream",
     "text": [
      "Слово 'Название' встречается 608 раз(а) в файле.\n"
     ]
    }
   ],
   "source": [
    "with open('парсинг1.txt', 'r', encoding='utf-8') as file:\n",
    "    content = file.read()\n",
    "\n",
    "count = content.count('Название')\n",
    "print(f\"Слово 'Название' встречается {count} раз(а) в файле.\")\n"
   ]
  },
  {
   "cell_type": "code",
   "execution_count": 3,
   "id": "53e6d653",
   "metadata": {},
   "outputs": [],
   "source": [
    "import requests\n",
    "from bs4 import BeautifulSoup\n",
    "\n",
    "# Функция для поиска текста в блоке <dl>\n",
    "def find_text_in_dl(soup, text_to_find):\n",
    "    # Ищем все элементы <dt> в блоке <dl>\n",
    "    dt_elements = soup.find_all('dt', class_='MuiTypography-root MuiTypography-body2 css-y0o1kz')\n",
    "    for dt_element in dt_elements:\n",
    "        # Если текст <dt> соответствует искомому тексту\n",
    "        if dt_element.text.strip() == text_to_find:\n",
    "            # Находим следующий элемент <dd> и возвращаем его текст\n",
    "            dd_element = dt_element.find_next_sibling('dd')\n",
    "            if dd_element:\n",
    "                return dd_element.text.strip()\n",
    "            else:\n",
    "                return \"Нет данных\"\n",
    "    return \"Нет данных\"\n",
    "\n",
    "# Читаем данные из файла\n",
    "with open('парсинг1.txt', 'r', encoding='utf-8') as file:\n",
    "    lines = file.readlines()\n",
    "\n",
    "# Инициализируем переменные для хранения текущей ссылки, названия товара и цены\n",
    "current_url = \"\"\n",
    "current_product_name = \"\"\n",
    "current_price = \"\"\n",
    "\n",
    "# Открываем новый файл для записи результатов\n",
    "with open('результаты.txt', 'w', encoding='utf-8') as result_file:\n",
    "\n",
    "    # Переходим по каждой строке файла\n",
    "    for line in lines:\n",
    "        if line.startswith('Ссылка на товар:'):\n",
    "            current_url = line[len('Ссылка на товар:'):].strip()\n",
    "        elif line.startswith('Название товара:'):\n",
    "            current_product_name = line[len('Название товара:'):].strip()\n",
    "        elif line.startswith('Цена:'):\n",
    "            current_price = line[len('Цена:'):].strip()\n",
    "            # Если есть и ссылка, и название товара, обрабатываем страницу\n",
    "            if current_url and current_product_name:\n",
    "                result_file.write(f\"Ссылка на товар: {current_url}\\n\")\n",
    "                response = requests.get(current_url)\n",
    "                if response.status_code == 200:\n",
    "                    soup = BeautifulSoup(response.content, 'html.parser')\n",
    "\n",
    "                    # Парсинг Пола\n",
    "                    gender = find_text_in_dl(soup, 'Пол:')\n",
    "                    application_area_element = find_text_in_dl(soup, 'Зона применения:')\n",
    "                    consistency_element = find_text_in_dl(soup, 'Тип/Консистенция:')\n",
    "                    process_element = find_text_in_dl(soup,  'Процесс:')\n",
    "                    skin_type_element = find_text_in_dl(soup,  'Тип кожи:')\n",
    "                    nutrition_element = find_text_in_dl(soup,  'Питание:')\n",
    "                    packing_element = find_text_in_dl(soup,  'Фасовка (мл/грамм):')\n",
    "                    brand_element = find_text_in_dl(soup,  'Бренд:')\n",
    "                    country_element = find_text_in_dl(soup, 'Страна производства:')\n",
    "                    softening_element = find_text_in_dl(soup, 'Смягчение:')\n",
    "                    lifting_element = find_text_in_dl(soup, 'Лифтинг:')\n",
    "                    weight_element = find_text_in_dl(soup, 'Вес:')\n",
    "                    width_element = find_text_in_dl(soup, 'Ширина:')\n",
    "                    length_element = find_text_in_dl(soup, 'Длина:')\n",
    "                    height_element = find_text_in_dl(soup, 'Высота:')\n",
    "\n",
    "                    result_file.write(f\"Название товара: {current_product_name}\\n\")\n",
    "                    result_file.write(f\"Цена: {current_price}\\n\")\n",
    "                    result_file.write(f\"Пол: {gender}\\n\")\n",
    "                    result_file.write(f\"Зона применения: {application_area_element}\\n\")\n",
    "                    result_file.write(f\"Тип/Консистенция: {consistency_element}\\n\")\n",
    "                    result_file.write(f\"Процесс: {process_element}\\n\")\n",
    "                    result_file.write(f\"Тип кожи: {skin_type_element}\\n\")\n",
    "                    result_file.write(f\"Питание: {nutrition_element}\\n\")\n",
    "                    result_file.write(f\"Фасовка (мл/грамм): {packing_element}\\n\")\n",
    "                    result_file.write(f\"Бренд: {brand_element}\\n\")\n",
    "                    result_file.write(f\"Страна производства: {country_element}\\n\")\n",
    "                    result_file.write(f\"Смягчение: {softening_element}\\n\")\n",
    "                    result_file.write(f\"Лифтинг: {lifting_element}\\n\")\n",
    "                    result_file.write(f\"Вес: {weight_element}\\n\")\n",
    "                    result_file.write(f\"Ширина: {width_element}\\n\")\n",
    "                    result_file.write(f\"Длина: {length_element}\\n\")\n",
    "                    result_file.write(f\"Высота: {height_element}\\n\\n\")\n",
    "                    \n",
    "                else:\n",
    "                    result_file.write(f\"Ошибка при получении страницы товара {current_url}\\n\")\n",
    "                # Сбрасываем текущие значения после обработки страницы\n",
    "                current_url = \"\"\n",
    "                current_product_name = \"\"\n",
    "                current_price = \"\"\n",
    "            else:\n",
    "                result_file.write(\"Ошибка: отсутствует ссылка на товар, название товара или цена\\n\")\n"
   ]
  },
  {
   "cell_type": "code",
   "execution_count": 4,
   "id": "a0900bb6",
   "metadata": {},
   "outputs": [
    {
     "name": "stdout",
     "output_type": "stream",
     "text": [
      "Количество вхождений строки \"Название товара\": 608\n"
     ]
    }
   ],
   "source": [
    "with open('результаты.txt', 'r', encoding='utf-8') as file:\n",
    "    lines = file.readlines()\n",
    "\n",
    "# Подсчет количества строк, содержащих \"Название товара\"\n",
    "count = sum(1 for line in lines if \"Название товара\" in line)\n",
    "\n",
    "print(f'Количество вхождений строки \"Название товара\": {count}')\n"
   ]
  },
  {
   "cell_type": "markdown",
   "id": "ff975271",
   "metadata": {},
   "source": [
    "Последним кодом я собираю все дополнительные характеристики и сверяю что количество данных осталось прежним"
   ]
  },
  {
   "cell_type": "code",
   "execution_count": null,
   "id": "e13ab28d",
   "metadata": {},
   "outputs": [],
   "source": []
  }
 ],
 "metadata": {
  "kernelspec": {
   "display_name": "Python 3 (ipykernel)",
   "language": "python",
   "name": "python3"
  },
  "language_info": {
   "codemirror_mode": {
    "name": "ipython",
    "version": 3
   },
   "file_extension": ".py",
   "mimetype": "text/x-python",
   "name": "python",
   "nbconvert_exporter": "python",
   "pygments_lexer": "ipython3",
   "version": "3.10.9"
  }
 },
 "nbformat": 4,
 "nbformat_minor": 5
}
